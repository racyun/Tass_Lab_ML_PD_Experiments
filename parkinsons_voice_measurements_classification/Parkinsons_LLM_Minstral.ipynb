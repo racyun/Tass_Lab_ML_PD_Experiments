{
  "nbformat": 4,
  "nbformat_minor": 0,
  "metadata": {
    "colab": {
      "provenance": []
    },
    "kernelspec": {
      "name": "python3",
      "display_name": "Python 3"
    },
    "language_info": {
      "name": "python"
    }
  },
  "cells": [
    {
      "cell_type": "markdown",
      "source": [
        "# USING LANGCHAIN ATTEMPT"
      ],
      "metadata": {
        "id": "mZ2yRaY27qkS"
      }
    },
    {
      "cell_type": "code",
      "source": [
        "import os\n",
        "from langchain.agents import create_csv_agent\n",
        "from langchain.llms import MistralAI"
      ],
      "metadata": {
        "id": "LOS7PSAc7xyo"
      },
      "execution_count": null,
      "outputs": []
    },
    {
      "cell_type": "code",
      "execution_count": null,
      "metadata": {
        "id": "HBKB6Gts7ZXE"
      },
      "outputs": [],
      "source": [
        "\n",
        "# Set your Mistral API key\n",
        "# API_KEY = #####\n",
        "os.environ[\"MISTRAL_API_KEY\"] = API_KEY\n",
        "\n",
        "# Initialize the Mistral model\n",
        "mistral_llm = MistralAI(model_name=\"mistral-medium\")\n",
        "\n",
        "# Create a CSV agent\n",
        "csv_agent = create_csv_agent(mistral_llm, '/content/parkinsons_data.csv', allow_dangerous_code=True,\n",
        "    verbose=False,\n",
        "    #agent_type=AgentType.ZERO_SHOT_REACT_DESCRIPTION\n",
        "   # agent_type=AgentType.OPENAI_FUNCTIONS,\n",
        ")\n",
        "\n",
        "\n",
        "# Query the agent\n",
        "response = csv_agent.run(\"What is the average value of column X?\")\n",
        "print(response)"
      ]
    },
    {
      "cell_type": "code",
      "source": [
        "query_str = 'Which features in the dataset correlate the most and which ones correlate the least?'  #@param\n",
        "\n",
        "try:\n",
        "    response = agent.invoke({\"input\": query_str})\n",
        "except ValueError as e:\n",
        "    response = str(e)\n",
        "    if not response.startswith(\"Could not parse LLM output: `\"):\n",
        "        raise e\n",
        "    response = re"
      ],
      "metadata": {
        "id": "rFTPVlzA8Fwv"
      },
      "execution_count": null,
      "outputs": []
    },
    {
      "cell_type": "code",
      "source": [
        "query_str = 'Which features in the dataset are least important?'  #@param\n",
        "\n",
        "try:\n",
        "    response = agent.invoke({\"input\": query_str})\n",
        "except ValueError as e:\n",
        "    response = str(e)\n",
        "    if not response.startswith(\"Could not parse LLM output: `\"):\n",
        "        raise e\n",
        "    response = re"
      ],
      "metadata": {
        "id": "wtZfkK_W87k7"
      },
      "execution_count": null,
      "outputs": []
    },
    {
      "cell_type": "code",
      "source": [
        "query_str = 'Can principal component analysis be done on the dataset?'  #@param\n",
        "\n",
        "try:\n",
        "    response = agent.invoke({\"input\": query_str})\n",
        "except ValueError as e:\n",
        "    response = str(e)\n",
        "    if not response.startswith(\"Could not parse LLM output: `\"):\n",
        "        raise e\n",
        "    response = re"
      ],
      "metadata": {
        "id": "S9wTFPG-8-Mc"
      },
      "execution_count": null,
      "outputs": []
    },
    {
      "cell_type": "markdown",
      "source": [
        "# USING E2B with Codestral"
      ],
      "metadata": {
        "id": "RejNCo6t8H33"
      }
    },
    {
      "cell_type": "code",
      "source": [
        "from mistralai.client import MistralClient\n",
        "import os\n",
        "import pandas as pd"
      ],
      "metadata": {
        "id": "NT7_y8188PKA"
      },
      "execution_count": null,
      "outputs": []
    },
    {
      "cell_type": "code",
      "source": [
        "# Set your Mistral API key\n",
        "\n",
        "# API_KEY = ####\n",
        "os.environ[\"MISTRAL_API_KEY\"] = API_KEY\n",
        "\n",
        "# Initialize Mistral client\n",
        "client = MistralClient(api_key=os.environ[\"MISTRAL_API_KEY\"])\n",
        "\n",
        "# Function to upload CSV data to the code interpreter sandbox\n",
        "def upload_dataset(code_interpreter, csv_path):\n",
        "    with open(csv_path, \"rb\") as f:\n",
        "        remote_path = code_interpreter.upload_file(f)\n",
        "    return remote_path\n",
        "\n",
        "# Function to run code in the sandbox and return results\n",
        "def run_code(code_interpreter, code):\n",
        "    output = code_interpreter.run_code(code)\n",
        "    return output\n",
        "\n",
        "\n",
        "# Broken\n",
        "# code_interpreter = get_code_interpreter() # Replace with your actual code interpreter instance\n",
        "# csv_path = \"your_data.csv\"\n",
        "# remote_path = upload_dataset(code_interpreter, csv_path)\n",
        "\n",
        "# code_to_execute = f\"\"\"\n",
        "# import pandas as pd\n",
        "# data = pd.read_csv('{remote_path}')\n",
        "# average_value = data['column_name'].mean()\n",
        "# print(average_value)\n",
        "# \"\"\"\n",
        "\n",
        "# results = run_code(code_interpreter, code_to_execute)\n",
        "# print(results)"
      ],
      "metadata": {
        "id": "XwD57XUV8K5-"
      },
      "execution_count": null,
      "outputs": []
    }
  ]
}